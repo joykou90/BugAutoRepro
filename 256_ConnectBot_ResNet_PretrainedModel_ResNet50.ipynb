{
 "cells": [
  {
   "cell_type": "code",
   "execution_count": 1,
   "metadata": {
    "colab": {
     "base_uri": "https://localhost:8080/",
     "height": 1000
    },
    "colab_type": "code",
    "executionInfo": {
     "elapsed": 80631,
     "status": "ok",
     "timestamp": 1587037324012,
     "user": {
      "displayName": "joy kou",
      "photoUrl": "https://lh3.googleusercontent.com/a-/AOh14Ghnr_EC7eeVJnsMQ7qPVlIHwTUhmVUktt9AWoWX=s64",
      "userId": "13603392610369212421"
     },
     "user_tz": -540
    },
    "id": "NYFqpWpv1byy",
    "outputId": "d0e26a09-82fe-4585-9e20-3380f9a48488"
   },
   "outputs": [],
   "source": [
    "!pip install tensorflow-gpu"
   ]
  },
  {
   "cell_type": "code",
   "execution_count": 2,
   "metadata": {
    "colab": {
     "base_uri": "https://localhost:8080/",
     "height": 34
    },
    "colab_type": "code",
    "executionInfo": {
     "elapsed": 2416,
     "status": "ok",
     "timestamp": 1587037336416,
     "user": {
      "displayName": "joy kou",
      "photoUrl": "https://lh3.googleusercontent.com/a-/AOh14Ghnr_EC7eeVJnsMQ7qPVlIHwTUhmVUktt9AWoWX=s64",
      "userId": "13603392610369212421"
     },
     "user_tz": -540
    },
    "id": "s9T8P4S61by2",
    "outputId": "fdc3630e-0eef-4189-e61b-d080110cb5d2"
   },
   "outputs": [
    {
     "name": "stdout",
     "output_type": "stream",
     "text": [
      "1.14.0\n"
     ]
    }
   ],
   "source": [
    "import tensorflow as tf\n",
    "print(tf.__version__)"
   ]
  },
  {
   "cell_type": "code",
   "execution_count": 3,
   "metadata": {
    "colab": {
     "base_uri": "https://localhost:8080/",
     "height": 34
    },
    "colab_type": "code",
    "executionInfo": {
     "elapsed": 1007,
     "status": "ok",
     "timestamp": 1587037339307,
     "user": {
      "displayName": "joy kou",
      "photoUrl": "https://lh3.googleusercontent.com/a-/AOh14Ghnr_EC7eeVJnsMQ7qPVlIHwTUhmVUktt9AWoWX=s64",
      "userId": "13603392610369212421"
     },
     "user_tz": -540
    },
    "id": "UxFdluLu1by5",
    "outputId": "7f9af78d-09ae-41b1-9ae6-54f8d4fffc99"
   },
   "outputs": [
    {
     "name": "stdout",
     "output_type": "stream",
     "text": [
      "Found GPU at:/device:GPU:0\n"
     ]
    }
   ],
   "source": [
    "device_name = tf.test.gpu_device_name()\n",
    "if device_name!='/device:GPU:0':\n",
    "    raise SystemError('GPU deivce not found')\n",
    "print('Found GPU at:{}'.format(device_name))"
   ]
  },
  {
   "cell_type": "code",
   "execution_count": 4,
   "metadata": {
    "colab": {
     "base_uri": "https://localhost:8080/",
     "height": 105,
     "resources": {
      "http://localhost:8080/nbextensions/google.colab/files.js": {
       "data": "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",
       "headers": [
        [
         "content-type",
         "application/javascript"
        ]
       ],
       "ok": true,
       "status": 200,
       "status_text": ""
      }
     }
    },
    "colab_type": "code",
    "executionInfo": {
     "elapsed": 364397,
     "status": "ok",
     "timestamp": 1587037706648,
     "user": {
      "displayName": "joy kou",
      "photoUrl": "https://lh3.googleusercontent.com/a-/AOh14Ghnr_EC7eeVJnsMQ7qPVlIHwTUhmVUktt9AWoWX=s64",
      "userId": "13603392610369212421"
     },
     "user_tz": -540
    },
    "id": "OvWeYOki1by7",
    "outputId": "b2d45b49-d2c2-403c-9ab0-a6ba87261290"
   },
   "outputs": [],
   "source": [
    "from google.colab import files\n",
    "file = files.upload()"
   ]
  },
  {
   "cell_type": "code",
   "execution_count": 5,
   "metadata": {},
   "outputs": [
    {
     "name": "stderr",
     "output_type": "stream",
     "text": [
      "Using TensorFlow backend.\n"
     ]
    }
   ],
   "source": [
    "from keras.applications.inception_v3 import InceptionV3\n",
    "from keras.applications.resnet50 import ResNet50\n",
    "from keras.preprocessing import image\n",
    "from keras.models import Model, Sequential\n",
    "from keras.layers import Dense, GlobalAveragePooling2D, Flatten, BatchNormalization\n",
    "from tensorflow.keras.preprocessing.image import ImageDataGenerator\n",
    "from keras import backend as K\n",
    "import pickle\n",
    "\n",
    "import numpy as np"
   ]
  },
  {
   "cell_type": "code",
   "execution_count": 6,
   "metadata": {},
   "outputs": [
    {
     "name": "stdout",
     "output_type": "stream",
     "text": [
      "WARNING:tensorflow:From /home/quang/anaconda3/lib/python3.7/site-packages/keras/backend/tensorflow_backend.py:4070: The name tf.nn.max_pool is deprecated. Please use tf.nn.max_pool2d instead.\n",
      "\n"
     ]
    },
    {
     "name": "stderr",
     "output_type": "stream",
     "text": [
      "/home/quang/anaconda3/lib/python3.7/site-packages/keras_applications/resnet50.py:265: UserWarning: The output shape of `ResNet50(include_top=False)` has been changed since Keras 2.2.0.\n",
      "  warnings.warn('The output shape of `ResNet50(include_top=False)` '\n"
     ]
    }
   ],
   "source": [
    "K.set_learning_phase(1)\n",
    "\n",
    "base_model = ResNet50(weights='imagenet', include_top=False)\n",
    "\n",
    "x = base_model.output\n",
    "x = GlobalAveragePooling2D()(x)\n",
    "x = Dense(1024, activation='relu')(x)\n",
    "predictions = Dense(50, activation='softmax')(x)\n",
    "\n",
    "model = Model(inputs=base_model.input, outputs=predictions)\n",
    "    \n",
    "for layer in base_model.layers:\n",
    "    layer.trainable = False\n",
    "    \n",
    "    if layer.name.startswith('bn'):\n",
    "        layer.call(layer.input, training=False)"
   ]
  },
  {
   "cell_type": "code",
   "execution_count": 7,
   "metadata": {},
   "outputs": [
    {
     "name": "stdout",
     "output_type": "stream",
     "text": [
      "\n"
     ]
    }
   ],
   "source": [
    "# def preprocess_input(x):\n",
    "#     # Change BRG => RGB\n",
    "#     x = x[:, :, :, ::-1]\n",
    "\n",
    "#     # Normalize\n",
    "#     x /= 255.\n",
    "#     x -= 0.5\n",
    "#     x *= 2.\n",
    "#     return x\n",
    "\n",
    "def _imagenet_preprocess_input(x):\n",
    "    \"\"\"\n",
    "    For ResNet50, VGG models. For InceptionV3 and Xception it's okay to use the\n",
    "    keras version (e.g. InceptionV3.preprocess_input) as the code path they hit\n",
    "    works okay with tf.Tensor inputs. The following was translated to tf ops from\n",
    "    https://github.com/fchollet/keras/blob/fb4a0849cf4dc2965af86510f02ec46abab1a6a4/keras/applications/imagenet_utils.py#L52\n",
    "    It's a possibility to change the implementation in keras to look like the\n",
    "    following and modified to work with BGR images (standard in Spark), but not doing it for now.\n",
    "    \"\"\"\n",
    "    # assuming 'BGR'\n",
    "    # Zero-center by mean pixel\n",
    "    mean = np.ones((256,256,3), dtype=np.float32)\n",
    "    mean[..., 0] = 103.939\n",
    "    mean[..., 1] = 116.779\n",
    "    mean[..., 2] = 123.68\n",
    "    return x - mean \n",
    "\n",
    "x_train = pickle.load(open(\"x_train.pickle\",\"rb\"))\n",
    "y_train = pickle.load(open(\"y_train.pickle\",\"rb\"))\n",
    "\n",
    "BATCH_SIZE = 8\n",
    "EPOCHS = 30\n",
    "# x_train = preprocess_input(x_train)\n",
    "x_train = _imagenet_preprocess_input(x_train)\n",
    "print ()"
   ]
  },
  {
   "cell_type": "code",
   "execution_count": 10,
   "metadata": {
    "colab": {
     "base_uri": "https://localhost:8080/",
     "height": 1000
    },
    "colab_type": "code",
    "executionInfo": {
     "elapsed": 184184,
     "status": "ok",
     "timestamp": 1587037893367,
     "user": {
      "displayName": "joy kou",
      "photoUrl": "https://lh3.googleusercontent.com/a-/AOh14Ghnr_EC7eeVJnsMQ7qPVlIHwTUhmVUktt9AWoWX=s64",
      "userId": "13603392610369212421"
     },
     "user_tz": -540
    },
    "id": "NVCvxZj61by9",
    "outputId": "a164e90b-d3b8-455b-998a-6247ffef7fe6"
   },
   "outputs": [
    {
     "name": "stdout",
     "output_type": "stream",
     "text": [
      "WARNING:tensorflow:From /home/quang/anaconda3/lib/python3.7/site-packages/keras/backend/tensorflow_backend.py:422: The name tf.global_variables is deprecated. Please use tf.compat.v1.global_variables instead.\n",
      "\n",
      "Epoch 1/40\n",
      "6/6 [==============================] - 1s 245ms/step - loss: 6.2144 - accuracy: 0.0000e+00\n",
      "Epoch 2/40\n",
      "6/6 [==============================] - 1s 114ms/step - loss: 4.5917 - accuracy: 0.0417\n",
      "Epoch 3/40\n",
      "6/6 [==============================] - 1s 103ms/step - loss: 4.1213 - accuracy: 0.0952\n",
      "Epoch 4/40\n",
      "6/6 [==============================] - 1s 105ms/step - loss: 3.7194 - accuracy: 0.1190\n",
      "Epoch 5/40\n",
      "6/6 [==============================] - 1s 101ms/step - loss: 3.2698 - accuracy: 0.2857\n",
      "Epoch 6/40\n",
      "6/6 [==============================] - 1s 112ms/step - loss: 3.2125 - accuracy: 0.1905\n",
      "Epoch 7/40\n",
      "6/6 [==============================] - 1s 103ms/step - loss: 3.4502 - accuracy: 0.2143\n",
      "Epoch 8/40\n",
      "6/6 [==============================] - 1s 114ms/step - loss: 2.9877 - accuracy: 0.2857\n",
      "Epoch 9/40\n",
      "6/6 [==============================] - 1s 113ms/step - loss: 2.6633 - accuracy: 0.3571\n",
      "Epoch 10/40\n",
      "6/6 [==============================] - 1s 128ms/step - loss: 2.5766 - accuracy: 0.3333\n",
      "Epoch 11/40\n",
      "6/6 [==============================] - 1s 98ms/step - loss: 2.6555 - accuracy: 0.3889\n",
      "Epoch 12/40\n",
      "6/6 [==============================] - 1s 128ms/step - loss: 2.7741 - accuracy: 0.2292\n",
      "Epoch 13/40\n",
      "6/6 [==============================] - 1s 114ms/step - loss: 2.5338 - accuracy: 0.3333\n",
      "Epoch 14/40\n",
      "6/6 [==============================] - 1s 101ms/step - loss: 2.4251 - accuracy: 0.3333\n",
      "Epoch 15/40\n",
      "6/6 [==============================] - 1s 111ms/step - loss: 2.2848 - accuracy: 0.4286\n",
      "Epoch 16/40\n",
      "6/6 [==============================] - 1s 132ms/step - loss: 2.2112 - accuracy: 0.3542\n",
      "Epoch 17/40\n",
      "6/6 [==============================] - 1s 100ms/step - loss: 2.4482 - accuracy: 0.4722\n",
      "Epoch 18/40\n",
      "6/6 [==============================] - 1s 111ms/step - loss: 2.9380 - accuracy: 0.2619\n",
      "Epoch 19/40\n",
      "6/6 [==============================] - 1s 129ms/step - loss: 1.9981 - accuracy: 0.3958\n",
      "Epoch 20/40\n",
      "6/6 [==============================] - 1s 97ms/step - loss: 2.1222 - accuracy: 0.3810\n",
      "Epoch 21/40\n",
      "6/6 [==============================] - 1s 104ms/step - loss: 2.2264 - accuracy: 0.3571\n",
      "Epoch 22/40\n",
      "6/6 [==============================] - 1s 90ms/step - loss: 2.0123 - accuracy: 0.3810\n",
      "Epoch 23/40\n",
      "6/6 [==============================] - 1s 101ms/step - loss: 2.0752 - accuracy: 0.4762\n",
      "Epoch 24/40\n",
      "6/6 [==============================] - 1s 99ms/step - loss: 2.2661 - accuracy: 0.3810\n",
      "Epoch 25/40\n",
      "6/6 [==============================] - 1s 97ms/step - loss: 2.3890 - accuracy: 0.3333\n",
      "Epoch 26/40\n",
      "6/6 [==============================] - 1s 119ms/step - loss: 1.9132 - accuracy: 0.4167\n",
      "Epoch 27/40\n",
      "6/6 [==============================] - 1s 88ms/step - loss: 1.9870 - accuracy: 0.3571\n",
      "Epoch 28/40\n",
      "6/6 [==============================] - 1s 104ms/step - loss: 2.0959 - accuracy: 0.3571\n",
      "Epoch 29/40\n",
      "6/6 [==============================] - 1s 113ms/step - loss: 1.6827 - accuracy: 0.4286\n",
      "Epoch 30/40\n",
      "6/6 [==============================] - 1s 115ms/step - loss: 1.8457 - accuracy: 0.3810\n",
      "Epoch 31/40\n",
      "6/6 [==============================] - 1s 126ms/step - loss: 1.8246 - accuracy: 0.4167\n",
      "Epoch 32/40\n",
      "6/6 [==============================] - 1s 114ms/step - loss: 1.7096 - accuracy: 0.4524\n",
      "Epoch 33/40\n",
      "6/6 [==============================] - 1s 98ms/step - loss: 1.8742 - accuracy: 0.4167\n",
      "Epoch 34/40\n",
      "6/6 [==============================] - 1s 128ms/step - loss: 1.7129 - accuracy: 0.4583\n",
      "Epoch 35/40\n",
      "6/6 [==============================] - 1s 104ms/step - loss: 1.9374 - accuracy: 0.4286\n",
      "Epoch 36/40\n",
      "6/6 [==============================] - 1s 114ms/step - loss: 1.9861 - accuracy: 0.2857\n",
      "Epoch 37/40\n",
      "6/6 [==============================] - 1s 129ms/step - loss: 1.5284 - accuracy: 0.4792\n",
      "Epoch 38/40\n",
      "6/6 [==============================] - 1s 88ms/step - loss: 2.2376 - accuracy: 0.4444\n",
      "Epoch 39/40\n",
      "6/6 [==============================] - 1s 104ms/step - loss: 1.6454 - accuracy: 0.5714\n",
      "Epoch 40/40\n",
      "6/6 [==============================] - 1s 129ms/step - loss: 1.7670 - accuracy: 0.3958\n",
      "Epoch 1/50\n",
      "6/6 [==============================] - 3s 581ms/step - loss: 1.3744 - accuracy: 0.5417\n",
      "Epoch 2/50\n",
      "6/6 [==============================] - 1s 121ms/step - loss: 1.1658 - accuracy: 0.5952\n",
      "Epoch 3/50\n",
      "6/6 [==============================] - 1s 102ms/step - loss: 1.4780 - accuracy: 0.4722\n",
      "Epoch 4/50\n",
      "6/6 [==============================] - 1s 117ms/step - loss: 1.4169 - accuracy: 0.6667\n",
      "Epoch 5/50\n",
      "6/6 [==============================] - 1s 127ms/step - loss: 0.8850 - accuracy: 0.7292\n",
      "Epoch 6/50\n",
      "6/6 [==============================] - 1s 96ms/step - loss: 1.4754 - accuracy: 0.5278\n",
      "Epoch 7/50\n",
      "6/6 [==============================] - 1s 120ms/step - loss: 0.9649 - accuracy: 0.6250\n",
      "Epoch 8/50\n",
      "6/6 [==============================] - 1s 117ms/step - loss: 1.0735 - accuracy: 0.5714\n",
      "Epoch 9/50\n",
      "6/6 [==============================] - 1s 126ms/step - loss: 0.7781 - accuracy: 0.7083\n",
      "Epoch 10/50\n",
      "6/6 [==============================] - 1s 99ms/step - loss: 1.2356 - accuracy: 0.6389\n",
      "Epoch 11/50\n",
      "6/6 [==============================] - 1s 113ms/step - loss: 0.8865 - accuracy: 0.6667\n",
      "Epoch 12/50\n",
      "6/6 [==============================] - 1s 128ms/step - loss: 0.9156 - accuracy: 0.5833\n",
      "Epoch 13/50\n",
      "6/6 [==============================] - 1s 112ms/step - loss: 0.8120 - accuracy: 0.7143\n",
      "Epoch 14/50\n",
      "6/6 [==============================] - 1s 102ms/step - loss: 0.8951 - accuracy: 0.6429\n",
      "Epoch 15/50\n",
      "6/6 [==============================] - 1s 120ms/step - loss: 0.8654 - accuracy: 0.6905\n",
      "Epoch 16/50\n",
      "6/6 [==============================] - 1s 112ms/step - loss: 0.8851 - accuracy: 0.7381\n",
      "Epoch 17/50\n",
      "6/6 [==============================] - 1s 125ms/step - loss: 0.7011 - accuracy: 0.6667\n",
      "Epoch 18/50\n",
      "6/6 [==============================] - 1s 98ms/step - loss: 1.2405 - accuracy: 0.5278\n",
      "Epoch 19/50\n",
      "6/6 [==============================] - 1s 129ms/step - loss: 0.6342 - accuracy: 0.7500\n",
      "Epoch 20/50\n",
      "6/6 [==============================] - 1s 113ms/step - loss: 0.8765 - accuracy: 0.7143\n",
      "Epoch 21/50\n",
      "6/6 [==============================] - 1s 104ms/step - loss: 0.9020 - accuracy: 0.6667\n",
      "Epoch 22/50\n",
      "6/6 [==============================] - 1s 133ms/step - loss: 0.7533 - accuracy: 0.7292\n",
      "Epoch 23/50\n",
      "6/6 [==============================] - 1s 90ms/step - loss: 0.9813 - accuracy: 0.7500\n",
      "Epoch 24/50\n",
      "6/6 [==============================] - 1s 114ms/step - loss: 0.6127 - accuracy: 0.7500\n",
      "Epoch 25/50\n",
      "6/6 [==============================] - 1s 101ms/step - loss: 1.1050 - accuracy: 0.5238\n",
      "Epoch 26/50\n",
      "6/6 [==============================] - 1s 111ms/step - loss: 0.4900 - accuracy: 0.7857\n",
      "Epoch 27/50\n",
      "6/6 [==============================] - 1s 109ms/step - loss: 0.8845 - accuracy: 0.7143\n",
      "Epoch 28/50\n",
      "6/6 [==============================] - 0s 79ms/step - loss: 0.8776 - accuracy: 0.6667\n",
      "Epoch 29/50\n",
      "6/6 [==============================] - 1s 87ms/step - loss: 0.6829 - accuracy: 0.6667\n",
      "Epoch 30/50\n",
      "6/6 [==============================] - 1s 118ms/step - loss: 0.7100 - accuracy: 0.6875\n",
      "Epoch 31/50\n",
      "6/6 [==============================] - 1s 96ms/step - loss: 0.8202 - accuracy: 0.6944\n",
      "Epoch 32/50\n",
      "6/6 [==============================] - 1s 126ms/step - loss: 0.6279 - accuracy: 0.7500\n",
      "Epoch 33/50\n",
      "6/6 [==============================] - 1s 102ms/step - loss: 0.9859 - accuracy: 0.5556\n",
      "Epoch 34/50\n",
      "6/6 [==============================] - 1s 128ms/step - loss: 0.5731 - accuracy: 0.7083\n",
      "Epoch 35/50\n",
      "6/6 [==============================] - 1s 99ms/step - loss: 0.6687 - accuracy: 0.7143\n",
      "Epoch 36/50\n",
      "6/6 [==============================] - 1s 119ms/step - loss: 0.6666 - accuracy: 0.6905\n",
      "Epoch 37/50\n",
      "6/6 [==============================] - 1s 133ms/step - loss: 0.5681 - accuracy: 0.7917\n",
      "Epoch 38/50\n",
      "6/6 [==============================] - 1s 123ms/step - loss: 0.7692 - accuracy: 0.6667\n",
      "Epoch 39/50\n",
      "6/6 [==============================] - 1s 98ms/step - loss: 0.6562 - accuracy: 0.6905\n",
      "Epoch 40/50\n",
      "6/6 [==============================] - 1s 113ms/step - loss: 0.7427 - accuracy: 0.7143\n",
      "Epoch 41/50\n",
      "6/6 [==============================] - 1s 113ms/step - loss: 0.6495 - accuracy: 0.7143\n",
      "Epoch 42/50\n",
      "6/6 [==============================] - 1s 108ms/step - loss: 0.7392 - accuracy: 0.6667\n",
      "Epoch 43/50\n",
      "6/6 [==============================] - 1s 123ms/step - loss: 0.6421 - accuracy: 0.7083\n",
      "Epoch 44/50\n",
      "6/6 [==============================] - 1s 98ms/step - loss: 0.8146 - accuracy: 0.7778\n",
      "Epoch 45/50\n",
      "6/6 [==============================] - 1s 127ms/step - loss: 0.7511 - accuracy: 0.6250\n",
      "Epoch 46/50\n",
      "6/6 [==============================] - 1s 102ms/step - loss: 0.4204 - accuracy: 0.8889\n",
      "Epoch 47/50\n",
      "6/6 [==============================] - 1s 127ms/step - loss: 0.5920 - accuracy: 0.7500\n",
      "Epoch 48/50\n",
      "6/6 [==============================] - 1s 114ms/step - loss: 1.0454 - accuracy: 0.7381\n",
      "Epoch 49/50\n",
      "6/6 [==============================] - 1s 104ms/step - loss: 0.5274 - accuracy: 0.7857\n",
      "Epoch 50/50\n",
      "6/6 [==============================] - 1s 112ms/step - loss: 0.5550 - accuracy: 0.7857\n",
      "\n"
     ]
    }
   ],
   "source": [
    "# compile the model (should be done *after* setting layers to non-trainable)\n",
    "model.compile(optimizer='adam',metrics=['accuracy'], loss='categorical_crossentropy')\n",
    "EPOCHS = 40\n",
    "# train the model on the new data for a few epochs\n",
    "aug = ImageDataGenerator(rotation_range=20,\n",
    "                         zoom_range=0.15,\n",
    "                         width_shift_range=0.2,\n",
    "                         height_shift_range=0.2,\n",
    "                         shear_range=0.15,\n",
    "                         horizontal_flip=True,\n",
    "                         fill_mode=\"nearest\")\n",
    "model.fit_generator(aug.flow(x_train, y_train, batch_size=BATCH_SIZE),\n",
    "                    steps_per_epoch=len(x_train) // BATCH_SIZE,\n",
    "                    epochs=EPOCHS)\n",
    "\n",
    "for layer in model.layers:\n",
    "    layer.trainable = True\n",
    "\n",
    "# we need to recompile the model for these modifications to take effect\n",
    "# we use SGD with a low learning rate\n",
    "from keras.optimizers import SGD\n",
    "model.compile(optimizer=SGD(lr=0.0005, momentum=0.9),metrics=['accuracy'], loss='categorical_crossentropy')\n",
    "# model.compile(optimizer='adam', metrics=['accuracy'], loss='categorical_crossentropy')\n",
    "EPOCHS = 50\n",
    "# we train our model again (this time fine-tuning the top 2 inception blocks\n",
    "# alongside the top Dense layers\n",
    "aug = ImageDataGenerator(rotation_range=5,\n",
    "                         zoom_range=0.1,\n",
    "                         width_shift_range=0.1,\n",
    "                         height_shift_range=0.1,\n",
    "                         shear_range=0.1,\n",
    "                         horizontal_flip=False,\n",
    "                         fill_mode=\"nearest\")\n",
    "model.fit_generator(aug.flow(x_train, y_train, batch_size=BATCH_SIZE),\n",
    "                    steps_per_epoch=len(x_train) // BATCH_SIZE,\n",
    "                    epochs=EPOCHS)\n",
    "print ()"
   ]
  },
  {
   "cell_type": "code",
   "execution_count": 11,
   "metadata": {},
   "outputs": [
    {
     "name": "stderr",
     "output_type": "stream",
     "text": [
      "Clipping input data to the valid range for imshow with RGB data ([0..1] for floats or [0..255] for integers).\n"
     ]
    },
    {
     "data": {
      "text/plain": [
       "<Figure size 600x600 with 1 Axes>"
      ]
     },
     "metadata": {},
     "output_type": "display_data"
    },
    {
     "name": "stderr",
     "output_type": "stream",
     "text": [
      "Clipping input data to the valid range for imshow with RGB data ([0..1] for floats or [0..255] for integers).\n"
     ]
    },
    {
     "data": {
      "text/plain": [
       "<Figure size 600x600 with 1 Axes>"
      ]
     },
     "metadata": {},
     "output_type": "display_data"
    }
   ],
   "source": [
    "import matplotlib.pyplot as plt\n",
    "\n",
    "plt.figure(figsize=(6,6))\n",
    "plt.imshow(x_train[3])\n",
    "plt.show()\n",
    "\n",
    "plt.figure(figsize=(6,6))\n",
    "plt.imshow(x_train[6])\n",
    "plt.show()\n",
    "\n",
    "\n",
    "# plt.figure(figsize=(6,6))\n",
    "# plt.imshow(abs(x_train[6]-x_train[3]))\n",
    "# plt.show()"
   ]
  },
  {
   "cell_type": "code",
   "execution_count": null,
   "metadata": {},
   "outputs": [],
   "source": []
  }
 ],
 "metadata": {
  "accelerator": "GPU",
  "colab": {
   "collapsed_sections": [],
   "name": "256_ConnectBot_ResNet_PretrainedModel.ipynb",
   "provenance": []
  },
  "kernelspec": {
   "display_name": "Python 3",
   "language": "python",
   "name": "python3"
  },
  "language_info": {
   "codemirror_mode": {
    "name": "ipython",
    "version": 3
   },
   "file_extension": ".py",
   "mimetype": "text/x-python",
   "name": "python",
   "nbconvert_exporter": "python",
   "pygments_lexer": "ipython3",
   "version": "3.7.3"
  }
 },
 "nbformat": 4,
 "nbformat_minor": 4
}
